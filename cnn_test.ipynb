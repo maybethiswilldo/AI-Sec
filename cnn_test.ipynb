{
  "nbformat": 4,
  "nbformat_minor": 0,
  "metadata": {
    "colab": {
      "name": "cnn-test.ipynb",
      "provenance": [],
      "collapsed_sections": [],
      "authorship_tag": "ABX9TyPxKvZ8s+rZIJlkJRXi3JHf",
      "include_colab_link": true
    },
    "kernelspec": {
      "name": "python3",
      "display_name": "Python 3"
    },
    "accelerator": "GPU"
  },
  "cells": [
    {
      "cell_type": "markdown",
      "metadata": {
        "id": "view-in-github",
        "colab_type": "text"
      },
      "source": [
        "<a href=\"https://colab.research.google.com/github/maybethiswilldo/AI-Sec/blob/master/cnn_test.ipynb\" target=\"_parent\"><img src=\"https://colab.research.google.com/assets/colab-badge.svg\" alt=\"Open In Colab\"/></a>"
      ]
    },
    {
      "cell_type": "code",
      "metadata": {
        "id": "Vt47RFL-PE-H",
        "colab_type": "code",
        "colab": {}
      },
      "source": [
        "import tensorflow as tf\n",
        "import keras \n",
        "\n",
        "from keras.models import Sequential\n",
        "from keras.layers import Conv2D, MaxPooling2D, Dense, Flatten, AveragePooling2D\n",
        "from keras.optimizers import RMSprop\n",
        "from keras.losses import sparse_categorical_crossentropy as scc\n",
        "from keras.datasets import cifar10\n",
        "\n",
        "import numpy as np\n"
      ],
      "execution_count": 20,
      "outputs": []
    },
    {
      "cell_type": "code",
      "metadata": {
        "id": "DkbWXksZQa0u",
        "colab_type": "code",
        "colab": {}
      },
      "source": [
        "def build_model(width, height, channel):\n",
        "    model = Sequential()\n",
        "    \n",
        "    model.add(Conv2D(\n",
        "        filters=16,\n",
        "        kernel_size=(3,3),\n",
        "        padding='same',\n",
        "        activation='relu',\n",
        "        input_shape=(width, height, channel)\n",
        "    ))\n",
        "    model.add(Conv2D(\n",
        "        filters=16,\n",
        "        kernel_size=(3,3),\n",
        "        padding='same',\n",
        "        activation='relu'\n",
        "    ))\n",
        "    model.add(MaxPooling2D(\n",
        "        pool_size=(2,2),\n",
        "        padding='same'\n",
        "    ))\n",
        "\n",
        "\n",
        "    model.add(Conv2D(\n",
        "        filters=32,\n",
        "        kernel_size=(3,3),\n",
        "        padding='same',\n",
        "        activation='relu'\n",
        "    ))\n",
        "    model.add(Conv2D(\n",
        "        filters=32,\n",
        "        kernel_size=(3,3),\n",
        "        padding='same',\n",
        "        activation='relu'\n",
        "    ))\n",
        "    model.add(MaxPooling2D(\n",
        "        pool_size=(2,2),\n",
        "        padding='same'\n",
        "    ))\n",
        "\n",
        "    model.add(Conv2D(\n",
        "        filters=64,\n",
        "        kernel_size=(3,3),\n",
        "        padding='same',\n",
        "        activation='relu'\n",
        "    ))\n",
        "    model.add(Conv2D(\n",
        "        filters=64,\n",
        "        kernel_size=(3,3),\n",
        "        padding='same',\n",
        "        activation='relu'\n",
        "    ))\n",
        "    model.add(AveragePooling2D(\n",
        "        pool_size=(8,8),\n",
        "        padding='same'\n",
        "    ))\n",
        "\n",
        "    model.add(Flatten())\n",
        "    model.add(Dense(\n",
        "        units=640,\n",
        "        activation='relu'\n",
        "    ))\n",
        "    model.add(Dense(\n",
        "        units=10,\n",
        "        activation='softmax'\n",
        "    ))\n",
        "\n",
        "    opt = RMSprop(lr=0.001, rho=0.9, epsilon=None, decay=0.0)\n",
        "    model.compile(\n",
        "        optimizer=opt,\n",
        "        loss=scc,\n",
        "        metrics=['accuracy']\n",
        "    )\n",
        "\n",
        "    return model"
      ],
      "execution_count": 21,
      "outputs": []
    },
    {
      "cell_type": "code",
      "metadata": {
        "id": "cF1rEC_3Smhm",
        "colab_type": "code",
        "colab": {
          "base_uri": "https://localhost:8080/",
          "height": 593
        },
        "outputId": "ff7c4346-27fb-4f60-af14-75feb9c8add8"
      },
      "source": [
        "(X_train, Y_train), (X_test, Y_test) = cifar10.load_data()\n",
        "\n",
        "\n",
        "model = build_model(X_train.shape[1],X_train.shape[2],X_train.shape[3] )\n",
        "\n",
        "hist = model.fit(\n",
        "    X_train, Y_train, \n",
        "    batch_size=64, epochs=15, \n",
        "    verbose=1, \n",
        "    shuffle=True, validation_split=0.1\n",
        ")\n",
        "\n",
        "model.evaluate(X_test, Y_test, verbose=1)"
      ],
      "execution_count": 22,
      "outputs": [
        {
          "output_type": "stream",
          "text": [
            "Epoch 1/15\n",
            "704/704 [==============================] - 3s 5ms/step - loss: 1.9113 - accuracy: 0.3012 - val_loss: 2.3764 - val_accuracy: 0.2872\n",
            "Epoch 2/15\n",
            "704/704 [==============================] - 3s 4ms/step - loss: 1.4095 - accuracy: 0.4893 - val_loss: 1.2654 - val_accuracy: 0.5380\n",
            "Epoch 3/15\n",
            "704/704 [==============================] - 3s 5ms/step - loss: 1.1909 - accuracy: 0.5750 - val_loss: 1.3051 - val_accuracy: 0.5612\n",
            "Epoch 4/15\n",
            "704/704 [==============================] - 3s 5ms/step - loss: 1.0351 - accuracy: 0.6329 - val_loss: 1.4727 - val_accuracy: 0.5466\n",
            "Epoch 5/15\n",
            "704/704 [==============================] - 3s 4ms/step - loss: 0.9258 - accuracy: 0.6738 - val_loss: 1.0226 - val_accuracy: 0.6414\n",
            "Epoch 6/15\n",
            "704/704 [==============================] - 3s 4ms/step - loss: 0.8404 - accuracy: 0.7051 - val_loss: 1.1978 - val_accuracy: 0.6344\n",
            "Epoch 7/15\n",
            "704/704 [==============================] - 3s 4ms/step - loss: 0.7762 - accuracy: 0.7276 - val_loss: 0.9353 - val_accuracy: 0.6688\n",
            "Epoch 8/15\n",
            "704/704 [==============================] - 3s 5ms/step - loss: 0.7212 - accuracy: 0.7479 - val_loss: 1.1743 - val_accuracy: 0.6368\n",
            "Epoch 9/15\n",
            "704/704 [==============================] - 3s 5ms/step - loss: 0.6794 - accuracy: 0.7618 - val_loss: 0.9178 - val_accuracy: 0.6942\n",
            "Epoch 10/15\n",
            "704/704 [==============================] - 3s 5ms/step - loss: 0.6409 - accuracy: 0.7773 - val_loss: 1.0287 - val_accuracy: 0.6942\n",
            "Epoch 11/15\n",
            "704/704 [==============================] - 3s 5ms/step - loss: 0.6057 - accuracy: 0.7872 - val_loss: 1.1036 - val_accuracy: 0.6922\n",
            "Epoch 12/15\n",
            "704/704 [==============================] - 3s 4ms/step - loss: 0.5796 - accuracy: 0.7968 - val_loss: 1.2815 - val_accuracy: 0.6480\n",
            "Epoch 13/15\n",
            "704/704 [==============================] - 3s 4ms/step - loss: 0.5579 - accuracy: 0.8073 - val_loss: 1.4651 - val_accuracy: 0.6268\n",
            "Epoch 14/15\n",
            "704/704 [==============================] - 3s 5ms/step - loss: 0.5308 - accuracy: 0.8163 - val_loss: 1.1614 - val_accuracy: 0.7132\n",
            "Epoch 15/15\n",
            "704/704 [==============================] - 3s 4ms/step - loss: 0.5191 - accuracy: 0.8206 - val_loss: 1.1557 - val_accuracy: 0.7212\n",
            "313/313 [==============================] - 1s 2ms/step - loss: 1.1998 - accuracy: 0.7064\n"
          ],
          "name": "stdout"
        },
        {
          "output_type": "execute_result",
          "data": {
            "text/plain": [
              "[1.1998201608657837, 0.7063999772071838]"
            ]
          },
          "metadata": {
            "tags": []
          },
          "execution_count": 22
        }
      ]
    },
    {
      "cell_type": "code",
      "metadata": {
        "id": "mT_qauSp29Ju",
        "colab_type": "code",
        "colab": {}
      },
      "source": [
        "import matplotlib.pyplot as plt"
      ],
      "execution_count": 23,
      "outputs": []
    },
    {
      "cell_type": "code",
      "metadata": {
        "id": "0bazrPfs2-UG",
        "colab_type": "code",
        "colab": {
          "base_uri": "https://localhost:8080/",
          "height": 545
        },
        "outputId": "c096a377-69e2-4dd2-ea8e-93df9f4536e4"
      },
      "source": [
        "plt.plot(hist.history['loss'])\n",
        "plt.title(\"loss history\")\n",
        "plt.show()\n",
        "\n",
        "plt.plot(hist.history['accuracy'])\n",
        "plt.title(\"acc history\")\n",
        "plt.show()"
      ],
      "execution_count": 24,
      "outputs": [
        {
          "output_type": "display_data",
          "data": {
            "image/png": "[encoded data removed]",
            "text/plain": [
              "<Figure size 432x288 with 1 Axes>"
            ]
          },
          "metadata": {
            "tags": [],
            "needs_background": "light"
          }
        },
        {
          "output_type": "display_data",
          "data": {
            "image/png": "[encoded data removed]",
            "text/plain": [
              "<Figure size 432x288 with 1 Axes>"
            ]
          },
          "metadata": {
            "tags": [],
            "needs_background": "light"
          }
        }
      ]
    }
  ]
}